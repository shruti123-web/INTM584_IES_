{
  "nbformat": 4,
  "nbformat_minor": 0,
  "metadata": {
    "colab": {
      "provenance": [],
      "authorship_tag": "ABX9TyNVnXssi7Zmio6Cncuxv7R9",
      "include_colab_link": true
    },
    "kernelspec": {
      "name": "python3",
      "display_name": "Python 3"
    },
    "language_info": {
      "name": "python"
    }
  },
  "cells": [
    {
      "cell_type": "markdown",
      "metadata": {
        "id": "view-in-github",
        "colab_type": "text"
      },
      "source": [
        "<a href=\"https://colab.research.google.com/github/shruti123-web/INTM584_IES_/blob/main/INTM584_IES_Lec17.ipynb\" target=\"_parent\"><img src=\"https://colab.research.google.com/assets/colab-badge.svg\" alt=\"Open In Colab\"/></a>"
      ]
    },
    {
      "cell_type": "code",
      "source": [
        "#single inheritance\n",
        "class a:\n",
        "  def __init__(self,n):\n",
        "    self.name=n\n",
        "\n",
        "class b(a):\n",
        "  def __init__(self,roll):\n",
        "    self.roll=roll\n",
        "  \n",
        "x=b(23)\n",
        "print(x.roll)"
      ],
      "metadata": {
        "colab": {
          "base_uri": "https://localhost:8080/"
        },
        "id": "Pvsfcqg8sP7c",
        "outputId": "8930ae9c-dc71-4d9e-e40e-1385d1617725"
      },
      "execution_count": null,
      "outputs": [
        {
          "output_type": "stream",
          "name": "stdout",
          "text": [
            "23\n"
          ]
        }
      ]
    },
    {
      "cell_type": "code",
      "source": [
        "#single inheritance\n",
        "class animal:\n",
        "  def speak(self):\n",
        "    print(\"animal speaking\")\n",
        "\n",
        "class dog(animal):\n",
        "  def bark(self):\n",
        "    print(\"dog barking\")\n",
        "\n",
        "d=dog()\n",
        "d.bark()\n",
        "d.speak()"
      ],
      "metadata": {
        "colab": {
          "base_uri": "https://localhost:8080/"
        },
        "id": "MXzCiKIEsP98",
        "outputId": "8b269352-c8a7-456e-e4e2-9733c27fc0c6"
      },
      "execution_count": null,
      "outputs": [
        {
          "output_type": "stream",
          "name": "stdout",
          "text": [
            "dog barking\n",
            "animal speaking\n"
          ]
        }
      ]
    },
    {
      "cell_type": "code",
      "execution_count": null,
      "metadata": {
        "colab": {
          "base_uri": "https://localhost:8080/"
        },
        "id": "sHaiN6mwrelh",
        "outputId": "594dae94-a5ec-49e3-c3a2-9ed4c57d62fe"
      },
      "outputs": [
        {
          "output_type": "stream",
          "name": "stdout",
          "text": [
            "dog barking\n",
            "animal speaking\n",
            "Eating bread...\n"
          ]
        }
      ],
      "source": [
        "#multilevel inheritance\n",
        "class animal:\n",
        "  def speak(self):\n",
        "    print(\"animal speaking\")\n",
        "\n",
        "class dog(animal):\n",
        "  def bark(self):\n",
        "    print(\"dog barking\")\n",
        "\n",
        "class dogchild(dog):\n",
        "  def eat(self):\n",
        "    print(\"Eating bread...\")\n",
        "\n",
        "d=dogchild()\n",
        "d.bark()\n",
        "d.speak()\n",
        "d.eat()"
      ]
    },
    {
      "cell_type": "code",
      "source": [
        "#multiple inheritance\n",
        "#single inheritance\n",
        "class a:\n",
        "  def __init__(self,n):\n",
        "    self.name=n\n",
        "\n",
        "class b:\n",
        "  def __init__(self,roll):\n",
        "    self.roll=roll\n",
        "  \n",
        "x=b(23)\n",
        "print(x.roll)"
      ],
      "metadata": {
        "id": "U_wv7A5dsQAZ"
      },
      "execution_count": null,
      "outputs": []
    },
    {
      "cell_type": "code",
      "source": [
        "#single inheritance\n",
        "class a:\n",
        "  def __init__(self,n):\n",
        "    self.name=n\n",
        "\n",
        "class b:\n",
        "  def __init__(self,roll):\n",
        "    self.roll=roll\n",
        "  \n",
        "class c(a,b):\n",
        "  def __init__(self,n,roll):\n",
        "    print(\"Hello\")\n",
        "    a.__init__(self,n)\n",
        "    b.__init__(self,roll)\n",
        "    print(self.name)\n",
        "    print(self.roll)\n",
        "  \n",
        "x=c(\"John\",35)"
      ],
      "metadata": {
        "colab": {
          "base_uri": "https://localhost:8080/"
        },
        "id": "b2ik2BissQD4",
        "outputId": "23a03af1-0498-494c-b48c-a3d5489913c6"
      },
      "execution_count": null,
      "outputs": [
        {
          "output_type": "stream",
          "name": "stdout",
          "text": [
            "Hello\n",
            "John\n",
            "35\n"
          ]
        }
      ]
    },
    {
      "cell_type": "code",
      "source": [
        "class person(object):\n",
        "  def __init__(self,name,id):\n",
        "    self.name=name\n",
        "    self.id=id\n",
        "\n",
        "  def display(self):\n",
        "    print(self.name)\n",
        "    print(self.id)\n",
        "\n",
        "class employee(person):\n",
        "  def __init__(self,name,id,salary,post):\n",
        "    self.salary=salary\n",
        "    self.post=post\n",
        "    person.__init__(self,name,id)\n",
        "    print(self.salary)\n",
        "    print(self.post)\n",
        "\n",
        "a=employee('Rahul',556782,260000,'Intern')\n",
        "a.display()"
      ],
      "metadata": {
        "colab": {
          "base_uri": "https://localhost:8080/"
        },
        "id": "y52Ev7Svvpj9",
        "outputId": "67d6aed0-69cc-43c3-f1e2-7cf87f0fd6f9"
      },
      "execution_count": null,
      "outputs": [
        {
          "output_type": "stream",
          "name": "stdout",
          "text": [
            "260000\n",
            "Intern\n",
            "Rahul\n",
            "556782\n"
          ]
        }
      ]
    },
    {
      "cell_type": "code",
      "source": [
        "#method overwriting\n",
        "class animal:\n",
        "  def eat(self):\n",
        "    print(\"I can eat\")\n",
        "\n",
        "class dog(animal):\n",
        "  def eat(self):\n",
        "    print(\"I like to eat something\")\n",
        "\n",
        "d=dog()\n",
        "d.eat() #will call the child function"
      ],
      "metadata": {
        "colab": {
          "base_uri": "https://localhost:8080/"
        },
        "id": "Q97rIA1iyYug",
        "outputId": "b89917e5-97f7-4089-c2ba-24fbb2b5e38a"
      },
      "execution_count": null,
      "outputs": [
        {
          "output_type": "stream",
          "name": "stdout",
          "text": [
            "I like to eat something\n"
          ]
        }
      ]
    },
    {
      "cell_type": "code",
      "source": [
        "#polymorphism\n",
        "class animal:\n",
        "  def eat(self):\n",
        "    print(\"I can eat\")\n",
        "\n",
        "class dog(animal):\n",
        "  def eat(self):\n",
        "    super().eat()\n",
        "    print(\"I like to eat something\")\n",
        "\n",
        "d=dog()\n",
        "d.eat() #will call the parent function first"
      ],
      "metadata": {
        "colab": {
          "base_uri": "https://localhost:8080/"
        },
        "id": "GPyY-wcwyz4P",
        "outputId": "101f71a8-b6ac-4ec3-9f60-11522fc69b0a"
      },
      "execution_count": null,
      "outputs": [
        {
          "output_type": "stream",
          "name": "stdout",
          "text": [
            "I can eat\n",
            "I like to eat something\n"
          ]
        }
      ]
    },
    {
      "cell_type": "code",
      "source": [],
      "metadata": {
        "id": "co22D5cdyz7q"
      },
      "execution_count": null,
      "outputs": []
    }
  ]
}