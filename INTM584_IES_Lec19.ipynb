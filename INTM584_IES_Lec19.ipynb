{
  "nbformat": 4,
  "nbformat_minor": 0,
  "metadata": {
    "colab": {
      "provenance": [],
      "authorship_tag": "ABX9TyNdbvui6HPwRcjlwXyOI3Mw",
      "include_colab_link": true
    },
    "kernelspec": {
      "name": "python3",
      "display_name": "Python 3"
    },
    "language_info": {
      "name": "python"
    }
  },
  "cells": [
    {
      "cell_type": "markdown",
      "metadata": {
        "id": "view-in-github",
        "colab_type": "text"
      },
      "source": [
        "<a href=\"https://colab.research.google.com/github/shruti123-web/INTM584_IES_/blob/main/INTM584_IES_Lec19.ipynb\" target=\"_parent\"><img src=\"https://colab.research.google.com/assets/colab-badge.svg\" alt=\"Open In Colab\"/></a>"
      ]
    },
    {
      "cell_type": "code",
      "execution_count": null,
      "metadata": {
        "colab": {
          "base_uri": "https://localhost:8080/"
        },
        "id": "07XNzI0TrE1b",
        "outputId": "85648423-8ae5-4fc1-de41-aa798b8d83f6"
      },
      "outputs": [
        {
          "output_type": "stream",
          "name": "stdout",
          "text": [
            "The array after sorting in ascending order by selection sort: \n",
            "[-202, -97, -9, -2, 11, 20, 45, 88, 747]\n"
          ]
        }
      ],
      "source": [
        "#selection sort\n",
        "def selection_sort(arr):\n",
        "    for i in range(len(arr)):\n",
        "        # Find the minimum element in remaining\n",
        "        min_index = i\n",
        "        for j in range(i+1, len(arr)):\n",
        "            if arr[j] < arr[min_index]:\n",
        "                min_index = j\n",
        "        \n",
        "        # Swap the found minimum element with the first element\n",
        "        arr[i], arr[min_index] = arr[min_index], arr[i]\n",
        "\n",
        "    return arr\n",
        "\n",
        "arr=[-2,45,20,11,-9,88,-97,-202,747]\n",
        "selection_sort(arr)\n",
        "print(\"The array after sorting in ascending order by selection sort: \")\n",
        "print(arr)"
      ]
    },
    {
      "cell_type": "code",
      "source": [
        "#selection sort\n",
        "def selection_sort(arr,size):\n",
        "    for i in range(size): #i=Base_ind\n",
        "        # Find the minimum element in remaining\n",
        "        min_index = i\n",
        "        for j in range(i+1, size):\n",
        "            if arr[j] < arr[min_index]:\n",
        "                min_index = j\n",
        "        \n",
        "        # Swap the found minimum element with the first element\n",
        "        arr[i], arr[min_index] = arr[min_index], arr[i]\n",
        "\n",
        "    return arr\n",
        "\n",
        "arr=[-2,45,20,11,-9,88,-97,-202,747]\n",
        "size=len(arr)\n",
        "selection_sort(arr,size)\n",
        "print(\"The array after sorting in ascending order by selection sort: \")\n",
        "print(arr)"
      ],
      "metadata": {
        "colab": {
          "base_uri": "https://localhost:8080/"
        },
        "id": "IY9HkBpVuw41",
        "outputId": "457ec6ad-26df-4204-83d9-16d3aa02d1ef"
      },
      "execution_count": null,
      "outputs": [
        {
          "output_type": "stream",
          "name": "stdout",
          "text": [
            "The array after sorting in ascending order by selection sort: \n",
            "[-202, -97, -9, -2, 11, 20, 45, 88, 747]\n"
          ]
        }
      ]
    },
    {
      "cell_type": "code",
      "source": [
        "#selection sort\n",
        "def selection_sort(arr,size):\n",
        "    for i in range(size):\n",
        "        # Find the minimum element in remaining\n",
        "        max_index = i\n",
        "        for j in range(i+1, size):\n",
        "            if arr[j] > arr[max_index]:\n",
        "                max_index = j\n",
        "        \n",
        "        # Swap the found minimum element with the first element\n",
        "        arr[i], arr[max_index] = arr[max_index], arr[i]\n",
        "\n",
        "    return arr\n",
        "\n",
        "arr=[-2,45,20,11,-9,88,-97,-202,747]\n",
        "size=len(arr)\n",
        "selection_sort(arr,size)\n",
        "print(\"The array after sorting in descending order by selection sort: \")\n",
        "print(arr)"
      ],
      "metadata": {
        "colab": {
          "base_uri": "https://localhost:8080/"
        },
        "id": "tnGdbLp1vKfE",
        "outputId": "b0e6abf4-decc-4a32-de0c-76f2d97966ee"
      },
      "execution_count": null,
      "outputs": [
        {
          "output_type": "stream",
          "name": "stdout",
          "text": [
            "The array after sorting in ascending order by selection sort: \n",
            "[747, 88, 45, 20, 11, -2, -9, -97, -202]\n"
          ]
        }
      ]
    },
    {
      "cell_type": "code",
      "source": [
        "#bubble sort\n",
        "def bubble_sort(arr,size):\n",
        "    for i in range(size-1):\n",
        "      for j in range(size-1):\n",
        "        if(arr[j]>arr[j+1]):\n",
        "          arr[j], arr[j+1] = arr[j+1], arr[j]\n",
        "    return arr\n",
        "\n",
        "arr=[-2,45,20,11,-9,88,-97,-202,747]\n",
        "size=len(arr)\n",
        "bubble_sort(arr,size)\n",
        "print(\"The array after sorting in ascending order by bubble sort: \")\n",
        "print(arr)"
      ],
      "metadata": {
        "colab": {
          "base_uri": "https://localhost:8080/"
        },
        "id": "3ls_7H6zvjPS",
        "outputId": "a51dc841-4a02-4340-8dbd-c807eff38668"
      },
      "execution_count": null,
      "outputs": [
        {
          "output_type": "stream",
          "name": "stdout",
          "text": [
            "The array after sorting in ascending order by bubble sort: \n",
            "[-202, -97, -9, -2, 11, 20, 45, 88, 747]\n"
          ]
        }
      ]
    },
    {
      "cell_type": "code",
      "source": [
        "#insertion sort\n",
        "def insertion_sort(arr,size):\n",
        "    for i in range(1,size): #step=\n",
        "       key = arr[i] #key-> the card which we are taking out\n",
        "       print('Key',key)\n",
        "       j=i-1\n",
        "       while j>=0 and key<arr[j]:\n",
        "         arr[j+1]=arr[j]\n",
        "         j=j-1\n",
        "         arr[j+1]=key\n",
        "\n",
        "arr=[9,5,1,4,3]\n",
        "size=len(arr)\n",
        "insertion_sort(arr,size)\n",
        "print(\"The array after sorting in ascending order by insertion sort: \")\n",
        "print(arr)"
      ],
      "metadata": {
        "colab": {
          "base_uri": "https://localhost:8080/"
        },
        "id": "j2K5n9U2vjR0",
        "outputId": "6f1077e4-eb3b-4b5b-ce3c-68e927271a3b"
      },
      "execution_count": null,
      "outputs": [
        {
          "output_type": "stream",
          "name": "stdout",
          "text": [
            "Key 5\n",
            "Key 1\n",
            "Key 4\n",
            "Key 3\n",
            "The array after sorting in ascending order by insertion sort: \n",
            "[1, 3, 4, 5, 9]\n"
          ]
        }
      ]
    },
    {
      "cell_type": "code",
      "source": [
        "#merge sort\n",
        "def merge(x, l, m, r):\n",
        "\tleft = m - l + 1\n",
        "\tright = r- m\n",
        "\tLeftPart = [0] * (left)\n",
        "\tRightPart = [0] * (right)\n",
        "\tfor i in range(0 , left):\n",
        "\t\tLeftPart[i] = x[l + i]\n",
        "\n",
        "\tfor j in range(0 , right):\n",
        "\t\tRightPart[j] = x[m + 1 + j]\n",
        "\ti = 0\t  \n",
        "\tj = 0\t  \n",
        "\tk = l\t \n",
        "\twhile i < left and j < right :\n",
        "\t\tif LeftPart[i] <= RightPart[j]:\n",
        "\t\t\tx[k] = LeftPart[i]\n",
        "\t\t\ti += 1\n",
        "\t\telse:\n",
        "\t\t\tx[k] = RightPart[j]\n",
        "\t\t\tj += 1\n",
        "\t\tk += 1\n",
        "\twhile i < left:\n",
        "\t\tx[k] = LeftPart[i]\n",
        "\t\ti += 1\n",
        "\t\tk += 1\n",
        "\twhile j < right:\n",
        "\t\tx[k] = RightPart[j]\n",
        "\t\tj += 1\n",
        "\t\tk += 1\n",
        "def mergeSort(x,l,r):\n",
        "\tif l < r:\n",
        "\t\tm = (l+(r-1))//2\n",
        "\t\tmergeSort(x, l, m)\n",
        "\t\tmergeSort(x, m+1, r)\n",
        "\t\tmerge(x, l, m, r)\n",
        "\n",
        "x = [9,5,6,3,4,8,2,1,10]\n",
        "n = len(x)\n",
        "print (\"Array  = \")\n",
        "for i in range(n):\n",
        "\tprint (\"%d\" %x[i]),\n",
        "mergeSort(x,0,n-1)\n",
        "print (\"\\n\\nSorted array is\")\n",
        "for i in range(n):\n",
        "\tprint (\"%d\" %x[i])"
      ],
      "metadata": {
        "colab": {
          "base_uri": "https://localhost:8080/"
        },
        "id": "p_qJa2P8vjVX",
        "outputId": "df41cd1a-cb5b-42e8-97c6-f4191e8e49d1"
      },
      "execution_count": null,
      "outputs": [
        {
          "output_type": "stream",
          "name": "stdout",
          "text": [
            "Array  = \n",
            "9\n",
            "5\n",
            "6\n",
            "3\n",
            "4\n",
            "8\n",
            "2\n",
            "1\n",
            "10\n",
            "\n",
            "\n",
            "Sorted array is\n",
            "1\n",
            "2\n",
            "3\n",
            "4\n",
            "5\n",
            "6\n",
            "8\n",
            "9\n",
            "10\n"
          ]
        }
      ]
    },
    {
      "cell_type": "code",
      "source": [
        "#quick sort\n",
        "def partition(x, left, right):\n",
        "  i = left - 1\n",
        "  point = x[right]\n",
        "  for j in range(left, right):\n",
        "    if x[j] < point:\n",
        "      i += 1\n",
        "      x[i], x[j] = x[j], x[i]\n",
        "  x[i + 1], x[right] = x[right], x[i + 1]\n",
        "  return i + 1\n",
        "def quicksort(lst, left, right):\n",
        "    if left < right:\n",
        "      pi = partition(lst, left, right)\n",
        "      quicksort(lst, left, pi - 1)\n",
        "      quicksort(lst, pi + 1, right)\n",
        "\n",
        "\n",
        "if __name__ == \"__main__\":\n",
        "  lst = [7,6,9,1,10,3,2,5,8,4]\n",
        "  print(\"Array =: \" + str(lst))\n",
        "  quicksort(lst, 0, len(lst) - 1)\n",
        "  print(\"Sorted Array = : \" + str(lst))"
      ],
      "metadata": {
        "colab": {
          "base_uri": "https://localhost:8080/"
        },
        "id": "c62iTi_f6Zpv",
        "outputId": "0c190794-0dde-4f13-98f3-7d3a17d22df6"
      },
      "execution_count": null,
      "outputs": [
        {
          "output_type": "stream",
          "name": "stdout",
          "text": [
            "Array =: [7, 6, 9, 1, 10, 3, 2, 5, 8, 4]\n",
            "Sorted Array = : [1, 2, 3, 4, 5, 6, 7, 8, 9, 10]\n"
          ]
        }
      ]
    },
    {
      "cell_type": "code",
      "source": [
        "#sequential search/linear search\n",
        "def linear_search(x):\n",
        "  lst = [6,4,8,2,9,4,54,3,22]\n",
        "  print(\"List  = \", lst)\n",
        "  index = 0\n",
        "  state = False\n",
        "  while index < len(lst) and state == False:\n",
        "    if lst[index] == x:\n",
        "      state = True\n",
        "    else:\n",
        "      index = index + 1\n",
        "  return state\n",
        "\n",
        "print(linear_search(54))"
      ],
      "metadata": {
        "colab": {
          "base_uri": "https://localhost:8080/"
        },
        "id": "aDagQGUN6k2a",
        "outputId": "a952902f-7dff-493a-a80c-6ebe480a0d84"
      },
      "execution_count": null,
      "outputs": [
        {
          "output_type": "stream",
          "name": "stdout",
          "text": [
            "List  =  [6, 4, 8, 2, 9, 4, 54, 3, 22]\n",
            "True\n"
          ]
        }
      ]
    },
    {
      "cell_type": "code",
      "source": [
        "def linearSearch(array,n,x):\n",
        "  for i in range(0,n):\n",
        "    if(array[i]==x):\n",
        "      return i\n",
        "      return -1\n",
        "\n",
        "array = [2,4,0,1,9]\n",
        "x = 1\n",
        "n = len(array)\n",
        "result = linearSearch(array,n,x)\n",
        "if result == -1:\n",
        "  print(\"Element not found\")\n",
        "else:\n",
        "  print(\"Element found at index \",result)"
      ],
      "metadata": {
        "colab": {
          "base_uri": "https://localhost:8080/"
        },
        "id": "EMl6bE2T65JP",
        "outputId": "6ff2f67e-4ee9-4abc-9713-a5928bef6e48"
      },
      "execution_count": null,
      "outputs": [
        {
          "output_type": "stream",
          "name": "stdout",
          "text": [
            "Element found at index  3\n"
          ]
        }
      ]
    },
    {
      "cell_type": "code",
      "source": [
        "#Binary_searching\n",
        "def binary_search(arr,low,high,x):\n",
        "  if high>=low:\n",
        "    mid = (high+low)//2\n",
        "    if arr[mid] == x:\n",
        "      return mid\n",
        "    elif arr[mid] > x:\n",
        "      return binary_search(arr, low, mid-1, x)\n",
        "    else:\n",
        "      return binary_search(arr, mid+1, high, x)\n",
        "  else:\n",
        "    return -1\n",
        "arr = [2,3,4,10,40]\n",
        "x = 10\n",
        "result = binary_search(arr, 0, len(arr)-1, x)\n",
        "\n",
        "if result != -1:\n",
        "  print(\"Element is present at index \",str(result))\n",
        "else:\n",
        "  print(\"Element not found\")"
      ],
      "metadata": {
        "colab": {
          "base_uri": "https://localhost:8080/"
        },
        "id": "_xMLQtkK9XNi",
        "outputId": "9e57813f-e884-461e-d569-6536bf023e67"
      },
      "execution_count": null,
      "outputs": [
        {
          "output_type": "stream",
          "name": "stdout",
          "text": [
            "Element is present at index  3\n"
          ]
        }
      ]
    },
    {
      "cell_type": "code",
      "source": [
        "#multi threading -> gives an impression of parallel processing\n",
        "#start-> initiate the thread\n",
        "#join-> execute the thread\n",
        "import threading\n",
        "def print_cube(num):\n",
        "  print(\"Cube: {}\".format(num*num*num))\n",
        "\n",
        "def print_square(num):\n",
        "  print(\"Square: {}\".format(num*num))\n",
        "\n",
        "if __name__ == \"__main__\":\n",
        "    t1 = threading.Thread(target= print_square, args = (10,))\n",
        "    t2 = threading.Thread(target= print_cube, args = (10,))\n",
        "    t1.start()\n",
        "    t2.start()\n",
        "    t1.join()\n",
        "    t1.join()\n",
        "    print(\"\\nDone\")"
      ],
      "metadata": {
        "colab": {
          "base_uri": "https://localhost:8080/"
        },
        "id": "jMXuh0uc_mQ2",
        "outputId": "2c9a13ee-8abd-4263-f9d4-98da7cfd0e64"
      },
      "execution_count": null,
      "outputs": [
        {
          "output_type": "stream",
          "name": "stdout",
          "text": [
            "Square: 100\n",
            "Cube: 1000\n",
            "Done\n",
            "\n"
          ]
        }
      ]
    }
  ]
}