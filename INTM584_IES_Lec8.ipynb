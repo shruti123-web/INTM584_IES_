{
  "nbformat": 4,
  "nbformat_minor": 0,
  "metadata": {
    "colab": {
      "provenance": [],
      "authorship_tag": "ABX9TyPBJC9coKNU9NqoyeG0Ygue",
      "include_colab_link": true
    },
    "kernelspec": {
      "name": "python3",
      "display_name": "Python 3"
    },
    "language_info": {
      "name": "python"
    }
  },
  "cells": [
    {
      "cell_type": "markdown",
      "metadata": {
        "id": "view-in-github",
        "colab_type": "text"
      },
      "source": [
        "<a href=\"https://colab.research.google.com/github/shruti123-web/INTM584_IES_/blob/main/INTM584_IES_Lec8.ipynb\" target=\"_parent\"><img src=\"https://colab.research.google.com/assets/colab-badge.svg\" alt=\"Open In Colab\"/></a>"
      ]
    },
    {
      "cell_type": "code",
      "execution_count": null,
      "metadata": {
        "colab": {
          "base_uri": "https://localhost:8080/"
        },
        "id": "9IbxFaiGRXyv",
        "outputId": "393158de-3508-488f-a360-aecd1608e26b"
      },
      "outputs": [
        {
          "output_type": "execute_result",
          "data": {
            "text/plain": [
              "[2, 4, 6, 8, 10]"
            ]
          },
          "metadata": {},
          "execution_count": 1
        }
      ],
      "source": [
        "l=[1,2,3,4,5,6,7,8,9,10]\n",
        "newl=[x for x in l if(x%2==0)] #compression\n",
        "newl"
      ]
    },
    {
      "cell_type": "code",
      "source": [
        "r=int(input(\"Enter the radius: \"))\n",
        "area=lambda r: r*r*3.14\n",
        "print(area(r))"
      ],
      "metadata": {
        "colab": {
          "base_uri": "https://localhost:8080/"
        },
        "id": "HKLEc0cmRari",
        "outputId": "0b265ee7-88a2-4c07-b6de-e9613addbc57"
      },
      "execution_count": null,
      "outputs": [
        {
          "output_type": "stream",
          "name": "stdout",
          "text": [
            "Enter the radius: 2\n",
            "12.56\n"
          ]
        }
      ]
    },
    {
      "cell_type": "code",
      "source": [
        "from itertools import count #if u don't know how many times it will be executed use count with next\n",
        "x=count(start=0, step=2) #infinite no. of times\n",
        "next(x)"
      ],
      "metadata": {
        "colab": {
          "base_uri": "https://localhost:8080/"
        },
        "id": "mQfHJ6lgRat9",
        "outputId": "4ed940c7-13a6-444b-ae18-ae7463f06071"
      },
      "execution_count": null,
      "outputs": [
        {
          "output_type": "execute_result",
          "data": {
            "text/plain": [
              "0"
            ]
          },
          "metadata": {},
          "execution_count": 3
        }
      ]
    },
    {
      "cell_type": "code",
      "source": [
        "next(x)"
      ],
      "metadata": {
        "colab": {
          "base_uri": "https://localhost:8080/"
        },
        "id": "9ocfr0OARav7",
        "outputId": "2cd6ff18-71e8-4b62-9496-f516440fdae0"
      },
      "execution_count": null,
      "outputs": [
        {
          "output_type": "execute_result",
          "data": {
            "text/plain": [
              "2"
            ]
          },
          "metadata": {},
          "execution_count": 4
        }
      ]
    },
    {
      "cell_type": "code",
      "source": [
        "next(x)"
      ],
      "metadata": {
        "colab": {
          "base_uri": "https://localhost:8080/"
        },
        "id": "yMno_BXlRayZ",
        "outputId": "a570d535-2f07-4afd-bfa0-f96abeed83b1"
      },
      "execution_count": null,
      "outputs": [
        {
          "output_type": "execute_result",
          "data": {
            "text/plain": [
              "4"
            ]
          },
          "metadata": {},
          "execution_count": 5
        }
      ]
    },
    {
      "cell_type": "code",
      "source": [
        "#sum of first 50 even numbers\n",
        "\n",
        "from itertools import count\n",
        "sum1=0\n",
        "x=(count(start=0, step=2))\n",
        "for i in range(0,50):\n",
        "  sum1=sum1+next(x)\n",
        "print(sum1)"
      ],
      "metadata": {
        "id": "6de5t1hzRa0z",
        "colab": {
          "base_uri": "https://localhost:8080/"
        },
        "outputId": "c2e052d4-fe05-4192-8132-31af0ec0bbce"
      },
      "execution_count": null,
      "outputs": [
        {
          "output_type": "stream",
          "name": "stdout",
          "text": [
            "2450\n"
          ]
        }
      ]
    },
    {
      "cell_type": "code",
      "source": [
        "from itertools import count\n",
        "x=(count(start=0, step=2))\n",
        "s=sum([next(x) for i in range(50)])\n",
        "s"
      ],
      "metadata": {
        "colab": {
          "base_uri": "https://localhost:8080/"
        },
        "id": "7e5m2wVGZQMX",
        "outputId": "1915cc69-2d13-45a3-f9e6-7de6e7acbdfa"
      },
      "execution_count": null,
      "outputs": [
        {
          "output_type": "execute_result",
          "data": {
            "text/plain": [
              "2450"
            ]
          },
          "metadata": {},
          "execution_count": 7
        }
      ]
    },
    {
      "cell_type": "code",
      "source": [
        "x=(count(start=0, step=2))\n",
        "s=lambda i : sum([next(x) for a in range(i)])\n",
        "s(50)"
      ],
      "metadata": {
        "id": "HzfIAukkRa3R",
        "colab": {
          "base_uri": "https://localhost:8080/"
        },
        "outputId": "7378527f-8105-4f55-afa7-e338f976b74a"
      },
      "execution_count": null,
      "outputs": [
        {
          "output_type": "execute_result",
          "data": {
            "text/plain": [
              "2450"
            ]
          },
          "metadata": {},
          "execution_count": 8
        }
      ]
    },
    {
      "cell_type": "code",
      "source": [
        "from itertools import cycle #infinite times without using next\n",
        "list=[1,2,3,4]\n",
        "iterator=cycle(list)\n",
        "for i in iterator:\n",
        "  print(i)"
      ],
      "metadata": {
        "id": "zKhm-O_URa5o"
      },
      "execution_count": null,
      "outputs": []
    },
    {
      "cell_type": "code",
      "source": [
        "import itertools #every tools will get imported waste of memory\n",
        "print(tuple(itertools.repeat(25,4))) #know how many no. of times it will repeat"
      ],
      "metadata": {
        "id": "SODizRpRRa7z",
        "colab": {
          "base_uri": "https://localhost:8080/"
        },
        "outputId": "c9db87f1-1461-48a0-e4e1-8d056b6a1812"
      },
      "execution_count": null,
      "outputs": [
        {
          "output_type": "stream",
          "name": "stdout",
          "text": [
            "(25, 25, 25, 25)\n"
          ]
        }
      ]
    },
    {
      "cell_type": "code",
      "source": [
        "from itertools import accumulate\n",
        "data = [1,0,2,3,5]\n",
        "tuple(accumulate(data))"
      ],
      "metadata": {
        "id": "V30TfvT6Ra-L",
        "colab": {
          "base_uri": "https://localhost:8080/"
        },
        "outputId": "2988cf0d-fd07-4e3f-bb72-fa17c071357d"
      },
      "execution_count": null,
      "outputs": [
        {
          "output_type": "execute_result",
          "data": {
            "text/plain": [
              "(1, 1, 3, 6, 11)"
            ]
          },
          "metadata": {},
          "execution_count": 13
        }
      ]
    },
    {
      "cell_type": "code",
      "source": [
        "from itertools import accumulate\n",
        "data = [0,1,0,1,1,2]\n",
        "tuple(accumulate(data))\n",
        "\n",
        "#[0, 1, 1, 2, 3, 5, 8]"
      ],
      "metadata": {
        "id": "wgMxwPBwRbBd",
        "colab": {
          "base_uri": "https://localhost:8080/"
        },
        "outputId": "9349b6a2-73dc-4352-9dce-45497cadac70"
      },
      "execution_count": null,
      "outputs": [
        {
          "output_type": "execute_result",
          "data": {
            "text/plain": [
              "(0, 1, 1, 2, 3, 5)"
            ]
          },
          "metadata": {},
          "execution_count": 2
        }
      ]
    },
    {
      "cell_type": "code",
      "source": [
        "from itertools import product #used to make combinations\n",
        "\n",
        "for i in product('ABC','xyz'):\n",
        "  print(i)"
      ],
      "metadata": {
        "colab": {
          "base_uri": "https://localhost:8080/"
        },
        "id": "nifyFybIfZEd",
        "outputId": "62da099c-74ee-40a2-924b-87c42ce41adc"
      },
      "execution_count": null,
      "outputs": [
        {
          "output_type": "stream",
          "name": "stdout",
          "text": [
            "('A', 'x')\n",
            "('A', 'y')\n",
            "('A', 'z')\n",
            "('B', 'x')\n",
            "('B', 'y')\n",
            "('B', 'z')\n",
            "('C', 'x')\n",
            "('C', 'y')\n",
            "('C', 'z')\n"
          ]
        }
      ]
    },
    {
      "cell_type": "code",
      "source": [
        "K=['A','B','C']\n",
        "J=['X','Y','Z']\n",
        "for i in K:\n",
        "  for f in J:\n",
        "    print(i,f)"
      ],
      "metadata": {
        "colab": {
          "base_uri": "https://localhost:8080/"
        },
        "id": "V_QvLhTWfZKe",
        "outputId": "7c241736-919c-4eec-acb3-277259703752"
      },
      "execution_count": null,
      "outputs": [
        {
          "output_type": "stream",
          "name": "stdout",
          "text": [
            "A X\n",
            "A Y\n",
            "A Z\n",
            "B X\n",
            "B Y\n",
            "B Z\n",
            "C X\n",
            "C Y\n",
            "C Z\n"
          ]
        }
      ]
    },
    {
      "cell_type": "code",
      "source": [
        "values=[1,2,3,4,5]\n",
        "import itertools\n",
        "count=0\n",
        "result=itertools.permutations(values, 3)\n",
        "for value in result:\n",
        "  print(tuple(value))\n",
        "  count+=1\n",
        "print(count)"
      ],
      "metadata": {
        "colab": {
          "base_uri": "https://localhost:8080/"
        },
        "id": "W7l0Gf2hgN19",
        "outputId": "cd7805f6-b96d-4924-8b38-8870009574d8"
      },
      "execution_count": null,
      "outputs": [
        {
          "output_type": "stream",
          "name": "stdout",
          "text": [
            "(1, 2, 3)\n",
            "(1, 2, 4)\n",
            "(1, 2, 5)\n",
            "(1, 3, 2)\n",
            "(1, 3, 4)\n",
            "(1, 3, 5)\n",
            "(1, 4, 2)\n",
            "(1, 4, 3)\n",
            "(1, 4, 5)\n",
            "(1, 5, 2)\n",
            "(1, 5, 3)\n",
            "(1, 5, 4)\n",
            "(2, 1, 3)\n",
            "(2, 1, 4)\n",
            "(2, 1, 5)\n",
            "(2, 3, 1)\n",
            "(2, 3, 4)\n",
            "(2, 3, 5)\n",
            "(2, 4, 1)\n",
            "(2, 4, 3)\n",
            "(2, 4, 5)\n",
            "(2, 5, 1)\n",
            "(2, 5, 3)\n",
            "(2, 5, 4)\n",
            "(3, 1, 2)\n",
            "(3, 1, 4)\n",
            "(3, 1, 5)\n",
            "(3, 2, 1)\n",
            "(3, 2, 4)\n",
            "(3, 2, 5)\n",
            "(3, 4, 1)\n",
            "(3, 4, 2)\n",
            "(3, 4, 5)\n",
            "(3, 5, 1)\n",
            "(3, 5, 2)\n",
            "(3, 5, 4)\n",
            "(4, 1, 2)\n",
            "(4, 1, 3)\n",
            "(4, 1, 5)\n",
            "(4, 2, 1)\n",
            "(4, 2, 3)\n",
            "(4, 2, 5)\n",
            "(4, 3, 1)\n",
            "(4, 3, 2)\n",
            "(4, 3, 5)\n",
            "(4, 5, 1)\n",
            "(4, 5, 2)\n",
            "(4, 5, 3)\n",
            "(5, 1, 2)\n",
            "(5, 1, 3)\n",
            "(5, 1, 4)\n",
            "(5, 2, 1)\n",
            "(5, 2, 3)\n",
            "(5, 2, 4)\n",
            "(5, 3, 1)\n",
            "(5, 3, 2)\n",
            "(5, 3, 4)\n",
            "(5, 4, 1)\n",
            "(5, 4, 2)\n",
            "(5, 4, 3)\n",
            "60\n"
          ]
        }
      ]
    },
    {
      "cell_type": "code",
      "source": [
        "values = [1,2,3,4,5] #permutation can repeat, combination cannot repeat\n",
        "result=itertools.combinations(values,3)\n",
        "for comb in result:\n",
        "  print(comb)"
      ],
      "metadata": {
        "colab": {
          "base_uri": "https://localhost:8080/"
        },
        "id": "NW17eL9WhZhu",
        "outputId": "00cf1d60-dc90-404e-ce46-db8f02ca24fa"
      },
      "execution_count": null,
      "outputs": [
        {
          "output_type": "stream",
          "name": "stdout",
          "text": [
            "(1, 2, 3)\n",
            "(1, 2, 4)\n",
            "(1, 2, 5)\n",
            "(1, 3, 4)\n",
            "(1, 3, 5)\n",
            "(1, 4, 5)\n",
            "(2, 3, 4)\n",
            "(2, 3, 5)\n",
            "(2, 4, 5)\n",
            "(3, 4, 5)\n"
          ]
        }
      ]
    },
    {
      "cell_type": "code",
      "source": [
        "#print all comb. which sums to between 5 or 8 \n",
        "values = [1,2,3,4] #permutation can repeat, combination cannot repeat\n",
        "sum=0\n",
        "l=[]\n",
        "result=tuple(itertools.combinations(values,3))\n",
        "for i in result:\n",
        "  for j in range(len(i)):\n",
        "    sum=sum+i[j]\n",
        "    if(sum>=5 & sum<=8):\n",
        "      print(i[j])\n",
        "  print(\" \")"
      ],
      "metadata": {
        "colab": {
          "base_uri": "https://localhost:8080/"
        },
        "id": "9SX3evHwijHj",
        "outputId": "4384f2d6-af69-4982-b20c-2d8fac1c15ae"
      },
      "execution_count": null,
      "outputs": [
        {
          "output_type": "stream",
          "name": "stdout",
          "text": [
            "1\n",
            "2\n",
            "3\n",
            " \n",
            "1\n",
            "2\n",
            "4\n",
            " \n",
            "1\n",
            "3\n",
            "4\n",
            " \n",
            "2\n",
            "3\n",
            "4\n",
            " \n"
          ]
        }
      ]
    },
    {
      "cell_type": "code",
      "source": [
        "#opposite of next\n",
        "def ABC(): \n",
        "  yield \"T\"\n",
        "  yield \"U\"\n",
        "  yield \"T\"\n",
        "  yield \"O\"\n",
        "  yield \"R\"\n",
        "  yield \"I\"\n",
        "  yield \"A\"\n",
        "  yield \"L\"\n",
        "\n",
        "result=ABC()\n",
        "for k in result:\n",
        "  print(k)"
      ],
      "metadata": {
        "colab": {
          "base_uri": "https://localhost:8080/"
        },
        "id": "2dR_QD2UlItG",
        "outputId": "890bb9b4-8ef5-497f-a684-b1c48dba4dd1"
      },
      "execution_count": null,
      "outputs": [
        {
          "output_type": "stream",
          "name": "stdout",
          "text": [
            "T\n",
            "U\n",
            "T\n",
            "O\n",
            "R\n",
            "I\n",
            "A\n",
            "L\n"
          ]
        }
      ]
    },
    {
      "cell_type": "code",
      "source": [
        "from functools import reduce #similar to map but in map we use functions inbuilt function mostly, here equations are provided,userdefined function mostly\n",
        "product = reduce((lambda x, y : x*y), [1,2,3,4])\n",
        "product"
      ],
      "metadata": {
        "colab": {
          "base_uri": "https://localhost:8080/"
        },
        "id": "HcsCBencmB5D",
        "outputId": "89350292-c771-4951-b604-1fe01dce56a3"
      },
      "execution_count": null,
      "outputs": [
        {
          "output_type": "execute_result",
          "data": {
            "text/plain": [
              "24"
            ]
          },
          "metadata": {},
          "execution_count": 57
        }
      ]
    },
    {
      "cell_type": "code",
      "source": [
        "#Find the relationship between “GROSS SQUARE FEET”, “SALE PRICE” and “RESIDENTIAL UNITS” using any graph you choose.\n",
        "import matplotlib.pyplot as plt\n",
        "from mpl_toolkits.mplot3d import axes3d\n",
        "\n",
        "ax = plt.figure().add_subplot(111, projection='3d')\n",
        "ax.scatter(df.GROSS_SQUARE_FEET, df.SALE_PRICE, df.RESIDENTIAL_UNITS, c=df.RESIDENTIAL_UNITS)\n",
        "ax.set_xlabel(\"GROSS_SQUARE_FEET\")\n",
        "ax.set_ylabel(\"SALE_PRICE\")\n",
        "ax.set_zlabel(\"RESIDENTIAL_UNITS\")"
      ],
      "metadata": {
        "id": "eThBKemhyGT-"
      },
      "execution_count": null,
      "outputs": []
    }
  ]
}