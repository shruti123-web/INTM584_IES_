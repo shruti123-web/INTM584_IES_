{
  "nbformat": 4,
  "nbformat_minor": 0,
  "metadata": {
    "colab": {
      "provenance": [],
      "authorship_tag": "ABX9TyNQoQ4lS3Ehq8HQyhUEh/tj",
      "include_colab_link": true
    },
    "kernelspec": {
      "name": "python3",
      "display_name": "Python 3"
    },
    "language_info": {
      "name": "python"
    }
  },
  "cells": [
    {
      "cell_type": "markdown",
      "metadata": {
        "id": "view-in-github",
        "colab_type": "text"
      },
      "source": [
        "<a href=\"https://colab.research.google.com/github/shruti123-web/INTM584_IES_/blob/main/INTM584_IES_Lec15.ipynb\" target=\"_parent\"><img src=\"https://colab.research.google.com/assets/colab-badge.svg\" alt=\"Open In Colab\"/></a>"
      ]
    },
    {
      "cell_type": "code",
      "execution_count": null,
      "metadata": {
        "colab": {
          "base_uri": "https://localhost:8080/"
        },
        "id": "MMomZ8n0iZ5W",
        "outputId": "a4a62a6c-5e3a-40b5-995a-e4e01108fbce"
      },
      "outputs": [
        {
          "output_type": "stream",
          "name": "stdout",
          "text": [
            "Hello world\n",
            "None\n"
          ]
        }
      ],
      "source": [
        "#decorative\n",
        "\n",
        "def shout():\n",
        "  print(\"Hello world\")\n",
        "\n",
        "yell=shout\n",
        "print(yell())"
      ]
    },
    {
      "cell_type": "code",
      "source": [
        "def allcustomers():\n",
        "  print(\"1 gb for 1 month=249rs\")\n",
        "\n",
        "allcustomers()"
      ],
      "metadata": {
        "colab": {
          "base_uri": "https://localhost:8080/"
        },
        "id": "NXzEEyyHjtim",
        "outputId": "935d2ba8-d794-43ff-8781-15e4f28dea71"
      },
      "execution_count": null,
      "outputs": [
        {
          "output_type": "stream",
          "name": "stdout",
          "text": [
            "1 gb for 1 month=249rs\n"
          ]
        }
      ]
    },
    {
      "cell_type": "code",
      "source": [
        "def allcustomers(x):\n",
        "  print(\"1 gb for 1 month= \",x)\n",
        "  def PortedCustomers(y):\n",
        "    print(\"1 gb for 1 month=249rs+5GB\",y)\n",
        "\n",
        "allcustomers(256)"
      ],
      "metadata": {
        "colab": {
          "base_uri": "https://localhost:8080/"
        },
        "id": "6icnA7Fij9fN",
        "outputId": "04f893c7-32f2-4517-9f60-4f046aafde28"
      },
      "execution_count": null,
      "outputs": [
        {
          "output_type": "stream",
          "name": "stdout",
          "text": [
            "1 gb for 1 month=  256\n"
          ]
        }
      ]
    },
    {
      "cell_type": "code",
      "source": [
        "#currying fun\n",
        "def change(a):\n",
        "  print(\"1gb/day for \",a)\n",
        "  def w(b):\n",
        "    print(\"Addition gb of: \",b)\n",
        "  return w\n",
        "\n",
        "change(249)"
      ],
      "metadata": {
        "colab": {
          "base_uri": "https://localhost:8080/"
        },
        "id": "i6DRiUtPkRK8",
        "outputId": "b220410a-6dcf-4b45-a428-1c8689c91b50"
      },
      "execution_count": null,
      "outputs": [
        {
          "output_type": "stream",
          "name": "stdout",
          "text": [
            "1gb/day for  249\n"
          ]
        },
        {
          "output_type": "execute_result",
          "data": {
            "text/plain": [
              "<function __main__.change.<locals>.w(b)>"
            ]
          },
          "metadata": {},
          "execution_count": 7
        }
      ]
    },
    {
      "cell_type": "code",
      "source": [
        "#currying fun\n",
        "def change(a):\n",
        "  print(\"1gb/day for \",a)\n",
        "  def w(b):\n",
        "    print(\"Addition gb of: \",b)\n",
        "  return w\n",
        "\n",
        "change(249)(5)"
      ],
      "metadata": {
        "colab": {
          "base_uri": "https://localhost:8080/"
        },
        "id": "diT11WOMmilv",
        "outputId": "55091a2a-820f-4229-e112-9810ef604a23"
      },
      "execution_count": null,
      "outputs": [
        {
          "output_type": "stream",
          "name": "stdout",
          "text": [
            "1gb/day for  249\n",
            "Addition gb of:  5\n"
          ]
        }
      ]
    },
    {
      "cell_type": "code",
      "source": [
        "#memorization\n",
        "#factorial reccusrion"
      ],
      "metadata": {
        "id": "chEcGdtbnM5D"
      },
      "execution_count": null,
      "outputs": []
    },
    {
      "cell_type": "code",
      "source": [
        "#buffering stored in buffers and converted to byte codes\n",
        "x=\"Sarin CR\"\n",
        "x=memoryview(b'\\x55') #b-> binary of 55, 55->random no.\n",
        "x"
      ],
      "metadata": {
        "colab": {
          "base_uri": "https://localhost:8080/"
        },
        "id": "l8G3j6h9nM7e",
        "outputId": "8a89a593-1d35-49c6-e942-e930cdf2ed61"
      },
      "execution_count": null,
      "outputs": [
        {
          "output_type": "execute_result",
          "data": {
            "text/plain": [
              "<memory at 0x7fe0fe7ead00>"
            ]
          },
          "metadata": {},
          "execution_count": 9
        }
      ]
    },
    {
      "cell_type": "code",
      "source": [
        "#class-> similar to functions\n",
        "#class vs function?\n",
        "#objects"
      ],
      "metadata": {
        "id": "UebbN7AbnM9w"
      },
      "execution_count": null,
      "outputs": []
    },
    {
      "cell_type": "code",
      "source": [
        "class Myclass:\n",
        "  x=5\n",
        "\n",
        "p1=Myclass() #object creation #right method\n",
        "print(p1.x)"
      ],
      "metadata": {
        "colab": {
          "base_uri": "https://localhost:8080/"
        },
        "id": "84MfaaPanNAS",
        "outputId": "4385a39a-440c-4f66-eae1-4935edcc29f4"
      },
      "execution_count": null,
      "outputs": [
        {
          "output_type": "stream",
          "name": "stdout",
          "text": [
            "5\n"
          ]
        }
      ]
    },
    {
      "cell_type": "code",
      "source": [
        "class Myclass:\n",
        "  x=5\n",
        "\n",
        "p1=Myclass() #object creation\n",
        "print(Myclass.x)"
      ],
      "metadata": {
        "colab": {
          "base_uri": "https://localhost:8080/"
        },
        "id": "5eKon5PGnND0",
        "outputId": "a77fbd73-fcfd-42b6-ae6b-6e111da1cc15"
      },
      "execution_count": null,
      "outputs": [
        {
          "output_type": "stream",
          "name": "stdout",
          "text": [
            "5\n"
          ]
        }
      ]
    },
    {
      "cell_type": "code",
      "source": [
        "#creating a function with __init__ , definately will run\n",
        "class person:\n",
        "  def __init__(self,name,age): #self-> within itself, this class\n",
        "    self.name=name\n",
        "    self.age=age\n",
        "\n",
        "p1=person(\"John\",45)\n",
        "print(p1.name,p1.age)"
      ],
      "metadata": {
        "colab": {
          "base_uri": "https://localhost:8080/"
        },
        "id": "lgRNMb6VrDYL",
        "outputId": "704938a1-cd7d-4ab9-9887-1f92911fbbb4"
      },
      "execution_count": null,
      "outputs": [
        {
          "output_type": "stream",
          "name": "stdout",
          "text": [
            "John 45\n"
          ]
        }
      ]
    },
    {
      "cell_type": "code",
      "source": [
        "#creating a function with __init__ , definately will run\n",
        "class person:\n",
        "  def __init__(self,name): #self-> within itself, this class\n",
        "    self.name=name\n",
        "    print(name)\n",
        "\n",
        "p1=person(\"John\")\n",
        "print(p1.name)"
      ],
      "metadata": {
        "colab": {
          "base_uri": "https://localhost:8080/"
        },
        "id": "CdGmz-ulrEAl",
        "outputId": "1834818d-2a05-49fb-fdc0-d035e66b6912"
      },
      "execution_count": null,
      "outputs": [
        {
          "output_type": "stream",
          "name": "stdout",
          "text": [
            "John\n",
            "John\n"
          ]
        }
      ]
    },
    {
      "cell_type": "code",
      "source": [
        "#creating a function with __init__ , definately will run\n",
        "class person:\n",
        "  def __init__(self,name): #self-> within itself, this class\n",
        "    self.name=name\n",
        "    print(name)\n",
        "  \n",
        "  def myfunc(self):\n",
        "    print(\"Hello my name is: \"+self.name)\n",
        "\n",
        "p1=person(\"John\")\n",
        "print(p1.name)\n",
        "p1.myfunc()"
      ],
      "metadata": {
        "colab": {
          "base_uri": "https://localhost:8080/"
        },
        "id": "4ppcVXhmrEDB",
        "outputId": "dd3291c5-f8a7-42ef-f857-5fc7cf8a6a0d"
      },
      "execution_count": null,
      "outputs": [
        {
          "output_type": "stream",
          "name": "stdout",
          "text": [
            "John\n",
            "John\n",
            "Hello my name is: John\n"
          ]
        }
      ]
    },
    {
      "cell_type": "code",
      "source": [
        "#creating a function with __init__ , definately will run\n",
        "class person:\n",
        "  def __init__(self,name): #self-> within itself, this class\n",
        "    self.name=name\n",
        "    print(name)\n",
        "  \n",
        "  def myfunc(self):\n",
        "    print(\"Hello my name is: \",self.name)\n",
        "\n",
        "p1=person(\"John\")\n",
        "print(p1.name)\n",
        "p1.myfunc()"
      ],
      "metadata": {
        "colab": {
          "base_uri": "https://localhost:8080/"
        },
        "id": "CmQhFPvOrEGl",
        "outputId": "743b780c-053b-4fa6-bc9a-194381831cb6"
      },
      "execution_count": null,
      "outputs": [
        {
          "output_type": "stream",
          "name": "stdout",
          "text": [
            "John\n",
            "John\n",
            "Hello my name is:  John\n"
          ]
        }
      ]
    },
    {
      "cell_type": "code",
      "source": [
        "#creating a function with __init__ , definately will run\n",
        "class person:\n",
        "  def __init__(self,name,age): #self-> within itself, this class\n",
        "    self.name=name\n",
        "    self.age=age\n",
        "\n",
        "p1=person(\"John\",45)\n",
        "p2=person(\"Adam\",36)\n",
        "print(p1.age)#both p1 and p2 at different memory location\n",
        "print(p2.age)"
      ],
      "metadata": {
        "colab": {
          "base_uri": "https://localhost:8080/"
        },
        "id": "otcvFsVxueg9",
        "outputId": "f15db747-5ae1-48f2-cf87-f2a2b3be663f"
      },
      "execution_count": null,
      "outputs": [
        {
          "output_type": "stream",
          "name": "stdout",
          "text": [
            "45\n",
            "36\n"
          ]
        }
      ]
    },
    {
      "cell_type": "code",
      "source": [
        "p1.name"
      ],
      "metadata": {
        "colab": {
          "base_uri": "https://localhost:8080/",
          "height": 36
        },
        "id": "v7lqZAeDuenu",
        "outputId": "684f2ce0-aa01-421b-96a4-8682c008c64b"
      },
      "execution_count": null,
      "outputs": [
        {
          "output_type": "execute_result",
          "data": {
            "text/plain": [
              "'John'"
            ],
            "application/vnd.google.colaboratory.intrinsic+json": {
              "type": "string"
            }
          },
          "metadata": {},
          "execution_count": 18
        }
      ]
    },
    {
      "cell_type": "code",
      "source": [
        "#memory garbage\n",
        "del p2.age"
      ],
      "metadata": {
        "id": "oDZ2N0z0uvLA"
      },
      "execution_count": null,
      "outputs": []
    },
    {
      "cell_type": "code",
      "source": [
        "#classes as Numeric type in python, #int,#float"
      ],
      "metadata": {
        "id": "7cxgRS7huvNS"
      },
      "execution_count": null,
      "outputs": []
    },
    {
      "cell_type": "code",
      "source": [
        "try:\n",
        "  print(z)\n",
        "except NameError:\n",
        "  print(\"Variable x is not defined\")\n",
        "except:\n",
        "  print(\"Something else went wrong\")"
      ],
      "metadata": {
        "colab": {
          "base_uri": "https://localhost:8080/"
        },
        "id": "gLHq26U_uvQx",
        "outputId": "f72cd85d-f56f-4ab7-e880-2e7714351bb5"
      },
      "execution_count": null,
      "outputs": [
        {
          "output_type": "stream",
          "name": "stdout",
          "text": [
            "Variable x is not defined\n"
          ]
        }
      ]
    },
    {
      "cell_type": "code",
      "source": [
        "try:\n",
        "  print(\"Hello\")\n",
        "except:\n",
        "  print(\"something went wrong\")\n",
        "else:\n",
        "  print(\"nothing else went wrong\")"
      ],
      "metadata": {
        "colab": {
          "base_uri": "https://localhost:8080/"
        },
        "id": "H3eGmz6Gwxci",
        "outputId": "fa72750b-4203-4072-b7eb-c3b1f87168f0"
      },
      "execution_count": null,
      "outputs": [
        {
          "output_type": "stream",
          "name": "stdout",
          "text": [
            "Hello\n",
            "nothing else went wrong\n"
          ]
        }
      ]
    },
    {
      "cell_type": "code",
      "source": [
        "try:\n",
        "  y=3/0\n",
        "except ZeroDivisionError as err:\n",
        "  print(\"Handling runtime error: \",err)"
      ],
      "metadata": {
        "colab": {
          "base_uri": "https://localhost:8080/"
        },
        "id": "nJMvGOd1wxel",
        "outputId": "80dc1a42-afda-46d5-cd1c-0f78aa77d70e"
      },
      "execution_count": null,
      "outputs": [
        {
          "output_type": "stream",
          "name": "stdout",
          "text": [
            "Handling runtime error:  division by zero\n"
          ]
        }
      ]
    },
    {
      "cell_type": "code",
      "source": [
        "try:\n",
        "  x=input(\"Enter number: \")\n",
        "  x=x+1\n",
        "  print(x)\n",
        "except:\n",
        "  print(\"Invalid Input\")"
      ],
      "metadata": {
        "colab": {
          "base_uri": "https://localhost:8080/"
        },
        "id": "lJc_m59kwxg6",
        "outputId": "ac0c4180-26b6-4186-cf5d-2cc9867014b3"
      },
      "execution_count": null,
      "outputs": [
        {
          "output_type": "stream",
          "name": "stdout",
          "text": [
            "Enter number: 23\n",
            "Invalid Input\n"
          ]
        }
      ]
    },
    {
      "cell_type": "code",
      "source": [
        "#user defined exception\n",
        "x=-1\n",
        "if x<0:\n",
        "  raise Exception(\"Sorry, no numbers below 0\")"
      ],
      "metadata": {
        "colab": {
          "base_uri": "https://localhost:8080/",
          "height": 200
        },
        "id": "susN7HrXwxjM",
        "outputId": "fbde2cc5-4b79-4dce-9a51-384e0ce2f920"
      },
      "execution_count": null,
      "outputs": [
        {
          "output_type": "error",
          "ename": "Exception",
          "evalue": "ignored",
          "traceback": [
            "\u001b[0;31m---------------------------------------------------------------------------\u001b[0m",
            "\u001b[0;31mException\u001b[0m                                 Traceback (most recent call last)",
            "\u001b[0;32m<ipython-input-37-5a1d5dc564af>\u001b[0m in \u001b[0;36m<module>\u001b[0;34m\u001b[0m\n\u001b[1;32m      2\u001b[0m \u001b[0mx\u001b[0m\u001b[0;34m=\u001b[0m\u001b[0;34m-\u001b[0m\u001b[0;36m1\u001b[0m\u001b[0;34m\u001b[0m\u001b[0;34m\u001b[0m\u001b[0m\n\u001b[1;32m      3\u001b[0m \u001b[0;32mif\u001b[0m \u001b[0mx\u001b[0m\u001b[0;34m<\u001b[0m\u001b[0;36m0\u001b[0m\u001b[0;34m:\u001b[0m\u001b[0;34m\u001b[0m\u001b[0;34m\u001b[0m\u001b[0m\n\u001b[0;32m----> 4\u001b[0;31m   \u001b[0;32mraise\u001b[0m \u001b[0mException\u001b[0m\u001b[0;34m(\u001b[0m\u001b[0;34m\"Sorry, no numbers below 0\"\u001b[0m\u001b[0;34m)\u001b[0m\u001b[0;34m\u001b[0m\u001b[0;34m\u001b[0m\u001b[0m\n\u001b[0m",
            "\u001b[0;31mException\u001b[0m: Sorry, no numbers below 0"
          ]
        }
      ]
    },
    {
      "cell_type": "code",
      "source": [
        "#less than 10 digits\n",
        "x=\"364615561\"\n",
        "for i in range(len(x)):\n",
        "  if len(x)<10:\n",
        "    raise Exception(\"Sorry, no numbers below 10 digits\")"
      ],
      "metadata": {
        "colab": {
          "base_uri": "https://localhost:8080/",
          "height": 200
        },
        "id": "eFSYINzHwxmy",
        "outputId": "acb91d3f-bcc2-45ea-95ba-bd5c5c7adc2d"
      },
      "execution_count": null,
      "outputs": [
        {
          "output_type": "error",
          "ename": "Exception",
          "evalue": "ignored",
          "traceback": [
            "\u001b[0;31m---------------------------------------------------------------------------\u001b[0m",
            "\u001b[0;31mException\u001b[0m                                 Traceback (most recent call last)",
            "\u001b[0;32m<ipython-input-39-66ad3cdcf8f2>\u001b[0m in \u001b[0;36m<module>\u001b[0;34m\u001b[0m\n\u001b[1;32m      3\u001b[0m \u001b[0;32mfor\u001b[0m \u001b[0mi\u001b[0m \u001b[0;32min\u001b[0m \u001b[0mrange\u001b[0m\u001b[0;34m(\u001b[0m\u001b[0mlen\u001b[0m\u001b[0;34m(\u001b[0m\u001b[0mx\u001b[0m\u001b[0;34m)\u001b[0m\u001b[0;34m)\u001b[0m\u001b[0;34m:\u001b[0m\u001b[0;34m\u001b[0m\u001b[0;34m\u001b[0m\u001b[0m\n\u001b[1;32m      4\u001b[0m   \u001b[0;32mif\u001b[0m \u001b[0mlen\u001b[0m\u001b[0;34m(\u001b[0m\u001b[0mx\u001b[0m\u001b[0;34m)\u001b[0m\u001b[0;34m<\u001b[0m\u001b[0;36m10\u001b[0m\u001b[0;34m:\u001b[0m\u001b[0;34m\u001b[0m\u001b[0;34m\u001b[0m\u001b[0m\n\u001b[0;32m----> 5\u001b[0;31m     \u001b[0;32mraise\u001b[0m \u001b[0mException\u001b[0m\u001b[0;34m(\u001b[0m\u001b[0;34m\"Sorry, no numbers below 10 digits\"\u001b[0m\u001b[0;34m)\u001b[0m\u001b[0;34m\u001b[0m\u001b[0;34m\u001b[0m\u001b[0m\n\u001b[0m",
            "\u001b[0;31mException\u001b[0m: Sorry, no numbers below 10 digits"
          ]
        }
      ]
    },
    {
      "cell_type": "code",
      "source": [
        "#less than 10 digits\n",
        "x=input(\"Enter number: \")\n",
        "for i in range(len(x)):\n",
        "  if len(x)<10:\n",
        "    raise Exception(\"Sorry, no numbers below 10 digits\")"
      ],
      "metadata": {
        "colab": {
          "base_uri": "https://localhost:8080/",
          "height": 217
        },
        "id": "qFfcbJFkz2p9",
        "outputId": "f05e59bd-1fde-4c9b-c6a3-fb9f8ae222d6"
      },
      "execution_count": null,
      "outputs": [
        {
          "name": "stdout",
          "output_type": "stream",
          "text": [
            "Enter number: 123456\n"
          ]
        },
        {
          "output_type": "error",
          "ename": "Exception",
          "evalue": "ignored",
          "traceback": [
            "\u001b[0;31m---------------------------------------------------------------------------\u001b[0m",
            "\u001b[0;31mException\u001b[0m                                 Traceback (most recent call last)",
            "\u001b[0;32m<ipython-input-41-d1c525e09ee0>\u001b[0m in \u001b[0;36m<module>\u001b[0;34m\u001b[0m\n\u001b[1;32m      3\u001b[0m \u001b[0;32mfor\u001b[0m \u001b[0mi\u001b[0m \u001b[0;32min\u001b[0m \u001b[0mrange\u001b[0m\u001b[0;34m(\u001b[0m\u001b[0mlen\u001b[0m\u001b[0;34m(\u001b[0m\u001b[0mx\u001b[0m\u001b[0;34m)\u001b[0m\u001b[0;34m)\u001b[0m\u001b[0;34m:\u001b[0m\u001b[0;34m\u001b[0m\u001b[0;34m\u001b[0m\u001b[0m\n\u001b[1;32m      4\u001b[0m   \u001b[0;32mif\u001b[0m \u001b[0mlen\u001b[0m\u001b[0;34m(\u001b[0m\u001b[0mx\u001b[0m\u001b[0;34m)\u001b[0m\u001b[0;34m<\u001b[0m\u001b[0;36m10\u001b[0m\u001b[0;34m:\u001b[0m\u001b[0;34m\u001b[0m\u001b[0;34m\u001b[0m\u001b[0m\n\u001b[0;32m----> 5\u001b[0;31m     \u001b[0;32mraise\u001b[0m \u001b[0mException\u001b[0m\u001b[0;34m(\u001b[0m\u001b[0;34m\"Sorry, no numbers below 10 digits\"\u001b[0m\u001b[0;34m)\u001b[0m\u001b[0;34m\u001b[0m\u001b[0;34m\u001b[0m\u001b[0m\n\u001b[0m",
            "\u001b[0;31mException\u001b[0m: Sorry, no numbers below 10 digits"
          ]
        }
      ]
    },
    {
      "cell_type": "code",
      "source": [],
      "metadata": {
        "id": "_t2CSpbdz2xh"
      },
      "execution_count": null,
      "outputs": []
    }
  ]
}