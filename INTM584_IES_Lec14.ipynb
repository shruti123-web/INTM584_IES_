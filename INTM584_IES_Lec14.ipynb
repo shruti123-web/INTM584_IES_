{
  "nbformat": 4,
  "nbformat_minor": 0,
  "metadata": {
    "colab": {
      "provenance": [],
      "authorship_tag": "ABX9TyOAPgH8yxeQLmyl+WoVNDCx",
      "include_colab_link": true
    },
    "kernelspec": {
      "name": "python3",
      "display_name": "Python 3"
    },
    "language_info": {
      "name": "python"
    }
  },
  "cells": [
    {
      "cell_type": "markdown",
      "metadata": {
        "id": "view-in-github",
        "colab_type": "text"
      },
      "source": [
        "<a href=\"https://colab.research.google.com/github/shruti123-web/INTM584_IES_/blob/main/INTM584_IES_Lec14.ipynb\" target=\"_parent\"><img src=\"https://colab.research.google.com/assets/colab-badge.svg\" alt=\"Open In Colab\"/></a>"
      ]
    },
    {
      "cell_type": "code",
      "execution_count": null,
      "metadata": {
        "colab": {
          "base_uri": "https://localhost:8080/"
        },
        "id": "Cuf9HzZQojNQ",
        "outputId": "bf12a169-e3f9-41f3-bed9-57305cac595d"
      },
      "outputs": [
        {
          "output_type": "stream",
          "name": "stdout",
          "text": [
            "Looking in indexes: https://pypi.org/simple, https://us-python.pkg.dev/colab-wheels/public/simple/\n",
            "Requirement already satisfied: flask in /usr/local/lib/python3.8/dist-packages (1.1.4)\n",
            "Requirement already satisfied: itsdangerous<2.0,>=0.24 in /usr/local/lib/python3.8/dist-packages (from flask) (1.1.0)\n",
            "Requirement already satisfied: click<8.0,>=5.1 in /usr/local/lib/python3.8/dist-packages (from flask) (7.1.2)\n",
            "Requirement already satisfied: Werkzeug<2.0,>=0.15 in /usr/local/lib/python3.8/dist-packages (from flask) (1.0.1)\n",
            "Requirement already satisfied: Jinja2<3.0,>=2.10.1 in /usr/local/lib/python3.8/dist-packages (from flask) (2.11.3)\n",
            "Requirement already satisfied: MarkupSafe>=0.23 in /usr/local/lib/python3.8/dist-packages (from Jinja2<3.0,>=2.10.1->flask) (2.0.1)\n"
          ]
        }
      ],
      "source": [
        "!pip install flask"
      ]
    },
    {
      "cell_type": "code",
      "source": [
        "#Flask-> wsgi -> web server gateway interface\n",
        "#acts as a interface that coverts data that is favourable to python , eg-> JavaScript structure is diff than that of python so it converts JavaScript code into Python code"
      ],
      "metadata": {
        "id": "H5SDwlQ3pAQT"
      },
      "execution_count": null,
      "outputs": []
    },
    {
      "cell_type": "code",
      "source": [
        "from flask import Flask\n",
        "\n",
        "app = Flask(__name__) #calling flask fun. and giving app name\n",
        "\n",
        "\n",
        "@app.route('/') #/-> /homepage-> can create homepage\n",
        "def index():\n",
        "    return 'Hello from Flask!'\n",
        "\n",
        "\n",
        "app.run(host='0.0.0.0', port=81)\n"
      ],
      "metadata": {
        "id": "qBHxyNaUr2e5"
      },
      "execution_count": null,
      "outputs": []
    },
    {
      "cell_type": "code",
      "source": [
        "from flask import Flask\n",
        "\n",
        "app = Flask(__name__)\n",
        "\n",
        "\n",
        "@app.route('/admission/')\n",
        "def index():\n",
        "    return 'Hello from Flask!'\n",
        "\n",
        "\n",
        "app.run(host='0.0.0.0', port=81)"
      ],
      "metadata": {
        "id": "ColrdNFfscEz"
      },
      "execution_count": null,
      "outputs": []
    },
    {
      "cell_type": "code",
      "source": [
        "#SQL is a Programming lang. designed to access special database which can be accessed on all environments uniformly-> Ubuntu, macos, android, windows etc"
      ],
      "metadata": {
        "id": "y2MUxxV40K33"
      },
      "execution_count": null,
      "outputs": []
    }
  ]
}