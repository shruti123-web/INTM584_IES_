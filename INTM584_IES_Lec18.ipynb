{
  "nbformat": 4,
  "nbformat_minor": 0,
  "metadata": {
    "colab": {
      "provenance": [],
      "authorship_tag": "ABX9TyNXZsAAbBt+OzOMmx1cqPeF",
      "include_colab_link": true
    },
    "kernelspec": {
      "name": "python3",
      "display_name": "Python 3"
    },
    "language_info": {
      "name": "python"
    }
  },
  "cells": [
    {
      "cell_type": "markdown",
      "metadata": {
        "id": "view-in-github",
        "colab_type": "text"
      },
      "source": [
        "<a href=\"https://colab.research.google.com/github/shruti123-web/INTM584_IES_/blob/main/INTM584_IES_Lec18.ipynb\" target=\"_parent\"><img src=\"https://colab.research.google.com/assets/colab-badge.svg\" alt=\"Open In Colab\"/></a>"
      ]
    },
    {
      "cell_type": "code",
      "execution_count": null,
      "metadata": {
        "colab": {
          "base_uri": "https://localhost:8080/"
        },
        "id": "17gnShmx2NfQ",
        "outputId": "a1119387-f807-4d43-f50a-84b043f36f13"
      },
      "outputs": [
        {
          "output_type": "stream",
          "name": "stdout",
          "text": [
            "A new database is created\n"
          ]
        }
      ],
      "source": [
        "import sqlite3\n",
        "\n",
        "conn = sqlite3.connect(\"Lec1.db\")\n",
        "print(\"A new database is created\")"
      ]
    },
    {
      "cell_type": "code",
      "source": [
        "conn.execute('''CREATE TABLE \"Company Table2\" \n",
        "            (ID\tINTEGER,\n",
        "\t          Name\tTEXT,\n",
        "          \tSalary\tINTEGER);''')\n",
        "print(\"A new table is created\");\n",
        "\n",
        "conn.close()"
      ],
      "metadata": {
        "colab": {
          "base_uri": "https://localhost:8080/"
        },
        "id": "rYbP2gRf2wi5",
        "outputId": "a20897f0-c35e-4b93-ab55-cae7783fbaf3"
      },
      "execution_count": null,
      "outputs": [
        {
          "output_type": "stream",
          "name": "stdout",
          "text": [
            "A new table is created\n"
          ]
        }
      ]
    },
    {
      "cell_type": "code",
      "source": [
        "import sqlite3\n",
        "\n",
        " \n",
        "X = sqlite3.connect('NeDB.db')\n",
        " \n",
        "Y = X.cursor()\n",
        "\n",
        " \n",
        "Y.execute('''CREATE TABLE IF NOT EXISTS EMPLOYEE (\n",
        "         \tID integer,\n",
        "         \tName text NOT NULL,\n",
        "         \tDate_Join text,\n",
        "            Place text,\n",
        "            Salary integer,\n",
        "            Age real);''')\n",
        "\n",
        " \n",
        "Y.execute(\"INSERT INTO Employee VALUES (1,'John','2020-01-01','Kerala',32,25000)\")\n",
        " \n",
        "X.commit()\n",
        "\n",
        "Y.close()"
      ],
      "metadata": {
        "id": "hN6yGRnX2wpc"
      },
      "execution_count": null,
      "outputs": []
    },
    {
      "cell_type": "code",
      "source": [
        "import sqlite3\n",
        "\n",
        " \n",
        "X = sqlite3.connect('Shruti.db')\n",
        " \n",
        "Y = X.cursor() #copy\n",
        "\n",
        " \n",
        "Y.execute('''CREATE TABLE IF NOT EXISTS EMPLOYEE (\n",
        "         \tID integer,\n",
        "         \tName text NOT NULL,\n",
        "         \tDate_Join text,\n",
        "            Place text,\n",
        "            Salary integer,\n",
        "            Age real);''')\n",
        "\n",
        " \n",
        "Y.execute(\"INSERT INTO Employee VALUES (1,'John','2020-01-01','Kerala',34,25000)\")\n",
        "Y.execute(\"INSERT INTO Employee VALUES (2,'Pratik','2020-01-02','Haryana',32,20000)\")\n",
        "Y.execute(\"INSERT INTO Employee VALUES (3,'Kunal','2020-11-05','UK',25,35000)\")\n",
        "Y.execute(\"INSERT INTO Employee VALUES (4,'Abu','2020-10-01','UP',35,65000)\")\n",
        "Y.execute(\"INSERT INTO Employee VALUES (5,'Vipul','2021-01-03','UK',42,55000)\")\n",
        "\n",
        "\n",
        "for row in Y.execute('SELECT * FROM Employee ORDER BY Date_Join'):\n",
        "        print(row) \n",
        "\n",
        "Y.execute(\"SELECT * FROM Employee WHERE Place = 'Kerala'\")\n",
        "Y.execute(\"SELECT * FROM Employee WHERE Age > 25000 \")\n",
        "\n",
        "print(Y.fetchall())\n",
        "\n",
        "X.commit()"
      ],
      "metadata": {
        "colab": {
          "base_uri": "https://localhost:8080/"
        },
        "id": "jfYqj-kc6dFH",
        "outputId": "c67b8ecd-01cd-4bfd-dd9b-f59d976b5cec"
      },
      "execution_count": null,
      "outputs": [
        {
          "output_type": "stream",
          "name": "stdout",
          "text": [
            "(1, 'John', '2020-01-01', 'Kerala', 34, 25000.0)\n",
            "(2, 'Pratik', '2020-01-02', 'Haryana', 32, 20000.0)\n",
            "(4, 'Abu', '2020-10-01', 'UP', 35, 65000.0)\n",
            "(3, 'Kunal', '2020-11-05', 'UK', 25, 35000.0)\n",
            "(5, 'Vipul', '2021-01-03', 'UK', 42, 55000.0)\n",
            "[(3, 'Kunal', '2020-11-05', 'UK', 25, 35000.0), (4, 'Abu', '2020-10-01', 'UP', 35, 65000.0), (5, 'Vipul', '2021-01-03', 'UK', 42, 55000.0)]\n"
          ]
        }
      ]
    },
    {
      "cell_type": "code",
      "source": [
        "Y.execute(\"SELECT * FROM Employee WHERE Age > 50000 and Salary=25\")\n",
        "print(Y.fetchall())\n",
        "Y.close()"
      ],
      "metadata": {
        "colab": {
          "base_uri": "https://localhost:8080/"
        },
        "id": "XQnmIKNq-G_p",
        "outputId": "8a845aa1-9de4-4079-87fb-480c696683f8"
      },
      "execution_count": null,
      "outputs": [
        {
          "output_type": "stream",
          "name": "stdout",
          "text": [
            "[]\n"
          ]
        }
      ]
    },
    {
      "cell_type": "code",
      "source": [
        "#name like 'Ki%'\n",
        "#age in (25,27)\n",
        "#age between 25 AND 27\n",
        "#select MIN(Age) as minage from Employee"
      ],
      "metadata": {
        "id": "hH7gDx6h8gT1"
      },
      "execution_count": null,
      "outputs": []
    },
    {
      "cell_type": "code",
      "source": [
        "#where command\n",
        "import sqlite3\n",
        "\n",
        " \n",
        "X = sqlite3.connect('NeDB.db')\n",
        " \n",
        "Y = X.cursor()\n",
        "\n",
        " \n",
        "Y.execute('''CREATE TABLE IF NOT EXISTS EMPLOYEE (\n",
        "         \tID integer,\n",
        "         \tName text NOT NULL,\n",
        "         \tDate_Join text,\n",
        "            Place text,\n",
        "            Salary integer,\n",
        "            Age real);''')\n",
        "\n",
        " \n",
        "Y.execute(\"INSERT INTO Employee VALUES (1,'John','2020-03-01','Kerala',32,25000),(2,'Adam','2020-01-01','TN',22,30000),(3,'Mary','2022-01-01','Karnataka',24,120000)\")\n",
        "\n",
        "A = 'John'\n",
        "Y.execute(\"SELECT * FROM Employee WHERE Name = 'John'\")\n",
        "\n",
        "print(Y.fetchall())\n",
        "\n",
        "        \n",
        "X.commit()\n",
        "\n",
        "Y.close()"
      ],
      "metadata": {
        "colab": {
          "base_uri": "https://localhost:8080/"
        },
        "id": "OE6UBj_s7I59",
        "outputId": "a8593a27-3666-4168-9b32-2c8d286c6958"
      },
      "execution_count": null,
      "outputs": [
        {
          "output_type": "stream",
          "name": "stdout",
          "text": [
            "[(1, 'John', '2020-01-01', 'Kerala', 32, 25000.0), (1, 'John', '2020-01-01', 'Kerala', 32, 25000.0), (1, 'John', '2020-01-01', 'Kerala', 32, 25000.0), (1, 'John', '2020-03-01', 'Kerala', 32, 25000.0)]\n"
          ]
        }
      ]
    },
    {
      "cell_type": "code",
      "source": [],
      "metadata": {
        "id": "zzJtLGqR8XI-"
      },
      "execution_count": null,
      "outputs": []
    },
    {
      "cell_type": "code",
      "source": [],
      "metadata": {
        "id": "WfuR9TT-8XMM"
      },
      "execution_count": null,
      "outputs": []
    }
  ]
}